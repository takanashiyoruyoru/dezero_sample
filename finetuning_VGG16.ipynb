{
  "nbformat": 4,
  "nbformat_minor": 0,
  "metadata": {
    "colab": {
      "name": "finetuning_VGG16_dezero.ipynb",
      "provenance": [],
      "collapsed_sections": [],
      "authorship_tag": "ABX9TyNcTp56Ph7LpnRb3qBwqh1w"
    },
    "kernelspec": {
      "name": "python3",
      "display_name": "Python 3"
    },
    "language_info": {
      "name": "python"
    },
    "accelerator": "GPU"
  },
  "cells": [
    {
      "cell_type": "markdown",
      "source": [
        "In this notebook, Ant and Bee images were used for classification.\n",
        "\n",
        "This note was inspired by \"TRANSFER LEARNING FOR COMPUTER VISION TUTORIAL \".\n",
        "\n",
        "https://pytorch.org/tutorials/beginner/transfer_learning_tutorial.html\n"
      ],
      "metadata": {
        "id": "eGwdrgW2-VwT"
      }
    },
    {
      "cell_type": "code",
      "execution_count": 1,
      "metadata": {
        "colab": {
          "base_uri": "https://localhost:8080/"
        },
        "id": "4V6Hc45ODouL",
        "outputId": "5118c77e-f987-4bbd-dc3f-114041ce9d53"
      },
      "outputs": [
        {
          "output_type": "stream",
          "name": "stdout",
          "text": [
            "Requirement already satisfied: dezero in /usr/local/lib/python3.7/dist-packages (0.0.13)\n",
            "Requirement already satisfied: numpy in /usr/local/lib/python3.7/dist-packages (from dezero) (1.19.5)\n"
          ]
        }
      ],
      "source": [
        "pip install dezero"
      ]
    },
    {
      "cell_type": "code",
      "source": [
        "from google.colab import drive\n",
        "drive.mount('/content/drive')"
      ],
      "metadata": {
        "colab": {
          "base_uri": "https://localhost:8080/"
        },
        "id": "WihH8Sl-DrMk",
        "outputId": "576ebe24-b206-499c-ee6f-8ef9ecd4cd4f"
      },
      "execution_count": 2,
      "outputs": [
        {
          "output_type": "stream",
          "name": "stdout",
          "text": [
            "Drive already mounted at /content/drive; to attempt to forcibly remount, call drive.mount(\"/content/drive\", force_remount=True).\n"
          ]
        }
      ]
    },
    {
      "cell_type": "code",
      "source": [
        "import glob\n",
        "from PIL import Image\n",
        "import numpy as np\n",
        "import matplotlib.pyplot as plt\n",
        "import dezero\n",
        "import dezero.functions as F\n",
        "import dezero.layers as L\n",
        "from dezero import DataLoader, optimizers, Parameter\n",
        "from dezero.models import VGG16"
      ],
      "metadata": {
        "id": "ZCvuTVAPFTbz"
      },
      "execution_count": 3,
      "outputs": []
    },
    {
      "cell_type": "code",
      "source": [
        "#Change to the path where the image files are saved.\n",
        "path = \"./drive/MyDrive/ColabNotebooks/hymenoptera_data/\"\n",
        "\n",
        "train_path_ants = glob.glob(path + \"train/ants/*\")\n",
        "train_path_bees = glob.glob(path + \"train/bees/*\")\n",
        "\n",
        "test_path_ants = glob.glob(path + \"val/ants/*\")\n",
        "test_path_bees = glob.glob(path + \"val/bees/*\")\n",
        "\n",
        "train_path, test_path = [], []\n",
        "train_path.extend(train_path_ants)\n",
        "train_path.extend(train_path_bees)\n",
        "\n",
        "test_path.extend(test_path_ants)\n",
        "test_path.extend(test_path_bees)\n",
        "\n",
        "#Create target labels. Ants are 0 and Bees are 1.\n",
        "train_label = np.append(np.zeros(len(train_path_ants)),\n",
        "                        np.ones(len(train_path_bees)))\n",
        "test_label = np.append(np.zeros(len(test_path_ants)),\n",
        "                        np.ones(len(test_path_bees)))"
      ],
      "metadata": {
        "id": "VLBJmfVXHZEs"
      },
      "execution_count": 4,
      "outputs": []
    },
    {
      "cell_type": "markdown",
      "source": [
        "Make Dasetset for Dataloader"
      ],
      "metadata": {
        "id": "lS8wnitF8nMc"
      }
    },
    {
      "cell_type": "code",
      "source": [
        "class MyDataset:\n",
        "  def __init__(self, path, label, transform):\n",
        "    self.path = path\n",
        "    self.label = label\n",
        "    self.transform = transform\n",
        "\n",
        "  def __getitem__(self, index):\n",
        "    img = Image.open(self.path[index])\n",
        "    img = self.transform(img)\n",
        "    return img, int(self.label[index])\n",
        "\n",
        "  def __len__(self):\n",
        "    return len(self.label)"
      ],
      "metadata": {
        "id": "LeiSvD0FLgOq"
      },
      "execution_count": 5,
      "outputs": []
    },
    {
      "cell_type": "code",
      "source": [
        "batchsize = 8\n",
        "train_set = MyDataset(train_path, train_label, VGG16.preprocess)\n",
        "train_loader = DataLoader(train_set, batchsize, shuffle=True)\n",
        "\n",
        "test_set = MyDataset(test_path, test_label, VGG16.preprocess)\n",
        "test_loader = DataLoader(test_set, batchsize, shuffle=False)\n",
        "\n",
        "train_loader.to_gpu()\n",
        "test_loader.to_gpu()"
      ],
      "metadata": {
        "id": "EZnG7v_YiRh3"
      },
      "execution_count": 6,
      "outputs": []
    },
    {
      "cell_type": "markdown",
      "source": [
        "\"class FreezeParam\" in dezero/optimizers.py was slightly changed."
      ],
      "metadata": {
        "id": "IOt3FAwQ83SX"
      }
    },
    {
      "cell_type": "code",
      "source": [
        "class FreezeParam:\n",
        "    def __init__(self, *layers):\n",
        "        self.freeze_params = []\n",
        "        for l in layers:\n",
        "            if isinstance(l, Parameter):\n",
        "                self.freeze_params.append(l)\n",
        "            else:\n",
        "                for p in l.params():\n",
        "                    self.freeze_params.append(p)\n",
        "\n",
        "    def __call__(self, params):\n",
        "        for p in self.freeze_params:\n",
        "            p.grad.data = 0."
      ],
      "metadata": {
        "id": "p1uLkHbYOOVu"
      },
      "execution_count": 7,
      "outputs": []
    },
    {
      "cell_type": "markdown",
      "source": [
        "VGG16 was pretrained.\n",
        "\n",
        "Convolutional Layers were freezed and Fully Connected layers ware trained."
      ],
      "metadata": {
        "id": "Eqzp3pLeEp2_"
      }
    },
    {
      "cell_type": "code",
      "source": [
        "net = VGG16(pretrained=True)\n",
        "net.fc8 = L.Linear(2)  #replace output layer.\n",
        "freeze_layers = [net.conv1_1, net.conv1_2, net.conv2_1, net.conv2_2,\n",
        "                 net.conv3_1, net.conv3_2, net.conv3_3,\n",
        "                 net.conv4_1, net.conv4_2, net.conv4_3,\n",
        "                 net.conv5_1, net.conv5_2, net.conv5_3]\n",
        "freeze_fn = FreezeParam(*freeze_layers)\n",
        "\n",
        "optimizer = optimizers.AdaGrad(lr=0.001).setup(net)\n",
        "optimizer.add_hook(freeze_fn)\n",
        "\n",
        "net.to_gpu()"
      ],
      "metadata": {
        "id": "qDj71DNMypaf"
      },
      "execution_count": 8,
      "outputs": []
    },
    {
      "cell_type": "code",
      "source": [
        "def test_score(net, test_loader, test_set):\n",
        "  \"\"\"\n",
        "  return test_loss and accurcy, test_mode\n",
        "  \"\"\"\n",
        "  #initialize tmp_loss and tmp accuracy for test_loader.\n",
        "  tmp_loss, tmp_acc = 0.0, 0.0\n",
        "  \n",
        "  for x, y in test_loader:\n",
        "    y_pred = net(x)\n",
        "    loss = F.softmax_cross_entropy(y_pred, y)\n",
        "    tmp_loss += float(loss.data) * len(y)\n",
        "    tmp_acc += float(F.accuracy(y_pred, y).data) * len(y)\n",
        "\n",
        "  return tmp_loss / (len(test_set)), tmp_acc / len(test_set)"
      ],
      "metadata": {
        "id": "-66JNwS-idJU"
      },
      "execution_count": 9,
      "outputs": []
    },
    {
      "cell_type": "code",
      "source": [
        "def train_net(net, train_loader, test_loader, max_epoch=1):\n",
        "  #lists to record the training progresses.\n",
        "  train_losses, test_losses = [], []\n",
        "  train_accuracies, test_accuracies = [], []\n",
        "  \n",
        "  for epoch in range(max_epoch):\n",
        "    #Initialize the tmp_loss and the tmp_accuracy\n",
        "    tmp_loss, tmp_acc = 0.0, 0.0\n",
        "    for x, y in train_loader:\n",
        "      y_pred = net(x)\n",
        "      loss = F.softmax_cross_entropy(y_pred, y)\n",
        "\n",
        "      net.cleargrads()\n",
        "      loss.backward()\n",
        "      optimizer.update()\n",
        "\n",
        "      tmp_loss += float(loss.data) * len(y)\n",
        "      tmp_acc += float(F.accuracy(y_pred, y).data) * len(y)\n",
        "\n",
        "    #record train loss and train accuracies \n",
        "    train_losses.append(tmp_loss / (len(train_set)))\n",
        "    train_accuracies.append(tmp_acc / len(train_set))\n",
        "\n",
        "    #calculate_test\n",
        "    test_loss, test_acc = test_score(net, test_loader, test_set)\n",
        "    test_losses.append(test_loss)\n",
        "    test_accuracies.append(test_acc)\n",
        "\n",
        "    print(\"Epoch:\", epoch + 1)\n",
        "    print(\"train_loss:{:.3f},'test loss: {:.3f}\".format(\n",
        "        train_losses[-1], test_losses[-1]))\n",
        "    print(\"train_acc:{:.3f},'test acc: {:.3f}\".format(\n",
        "        train_accuracies[-1], test_accuracies[-1]))\n",
        "\n",
        "  return net, [train_losses, test_losses, train_accuracies, test_accuracies]"
      ],
      "metadata": {
        "id": "X2_pzADhUODs"
      },
      "execution_count": 10,
      "outputs": []
    },
    {
      "cell_type": "code",
      "source": [
        "max_epoch = 10\n",
        "net, progress = train_net(net, train_loader, test_loader, max_epoch)"
      ],
      "metadata": {
        "colab": {
          "base_uri": "https://localhost:8080/"
        },
        "id": "aj4CN2l0WlNf",
        "outputId": "e918b45e-2583-48b6-80a6-886f4850ec22"
      },
      "execution_count": 11,
      "outputs": [
        {
          "output_type": "stream",
          "name": "stdout",
          "text": [
            "Epoch: 1\n",
            "train_loss:6.604,'test loss: 0.710\n",
            "train_acc:0.754,'test acc: 0.908\n",
            "Epoch: 2\n",
            "train_loss:0.150,'test loss: 1.026\n",
            "train_acc:0.967,'test acc: 0.902\n",
            "Epoch: 3\n",
            "train_loss:0.032,'test loss: 1.208\n",
            "train_acc:0.992,'test acc: 0.908\n",
            "Epoch: 4\n",
            "train_loss:0.000,'test loss: 1.010\n",
            "train_acc:1.000,'test acc: 0.915\n",
            "Epoch: 5\n",
            "train_loss:0.002,'test loss: 0.938\n",
            "train_acc:1.000,'test acc: 0.922\n",
            "Epoch: 6\n",
            "train_loss:0.000,'test loss: 1.268\n",
            "train_acc:1.000,'test acc: 0.922\n",
            "Epoch: 7\n",
            "train_loss:0.002,'test loss: 1.438\n",
            "train_acc:1.000,'test acc: 0.908\n",
            "Epoch: 8\n",
            "train_loss:0.000,'test loss: 1.060\n",
            "train_acc:1.000,'test acc: 0.922\n",
            "Epoch: 9\n",
            "train_loss:0.000,'test loss: 1.133\n",
            "train_acc:1.000,'test acc: 0.922\n",
            "Epoch: 10\n",
            "train_loss:0.000,'test loss: 1.376\n",
            "train_acc:1.000,'test acc: 0.902\n"
          ]
        }
      ]
    },
    {
      "cell_type": "markdown",
      "source": [
        "<br><br>\n",
        "Visualize the results"
      ],
      "metadata": {
        "id": "at2MfQq0DQpk"
      }
    },
    {
      "cell_type": "code",
      "source": [
        "plt.plot(np.arange(max_epoch) + 1, progress[0], label=\"Train\")\n",
        "plt.plot(np.arange(max_epoch) + 1, progress[1], label=\"Test\")\n",
        "plt.xlim(0, max_epoch + 0.5)\n",
        "plt.ylim(0, 7)\n",
        "plt.xlabel(\"Epoch\")\n",
        "plt.ylabel(\"Loss\")\n",
        "plt.legend(loc=1)\n",
        "plt.show()"
      ],
      "metadata": {
        "colab": {
          "base_uri": "https://localhost:8080/",
          "height": 283
        },
        "id": "jZ-oR5bXB4rE",
        "outputId": "646fa787-a33b-478b-ec29-dc0221a6a498"
      },
      "execution_count": 12,
      "outputs": [
        {
          "output_type": "display_data",
          "data": {
            "image/png": "[encoded data removed]",
            "text/plain": [
              "<Figure size 432x288 with 1 Axes>"
            ]
          },
          "metadata": {
            "needs_background": "light"
          }
        }
      ]
    },
    {
      "cell_type": "code",
      "source": [
        "plt.plot(np.arange(max_epoch) + 1, progress[2], label=\"Train\")\n",
        "plt.plot(np.arange(max_epoch) + 1, progress[3], label=\"Test\")\n",
        "plt.xlim(0, max_epoch + 0.5)\n",
        "plt.ylim(0.4, 1)\n",
        "plt.ylabel(\"Accuracy\")\n",
        "plt.xlabel(\"Epoch\")\n",
        "plt.legend(loc=4)\n",
        "plt.show()"
      ],
      "metadata": {
        "colab": {
          "base_uri": "https://localhost:8080/",
          "height": 283
        },
        "id": "KPAYP6khC3o6",
        "outputId": "c8c8797b-0ecf-4b78-ebdf-8a9590cb839a"
      },
      "execution_count": 13,
      "outputs": [
        {
          "output_type": "display_data",
          "data": {
            "image/png": "[encoded data removed]",
            "text/plain": [
              "<Figure size 432x288 with 1 Axes>"
            ]
          },
          "metadata": {
            "needs_background": "light"
          }
        }
      ]
    },
    {
      "cell_type": "markdown",
      "source": [
        "<br><br>\n",
        "### **The case All Layers were trained is below.**"
      ],
      "metadata": {
        "id": "dwRSDmRkJMIw"
      }
    },
    {
      "cell_type": "code",
      "source": [
        "#Initialize the network\n",
        "net_no_freeze = VGG16(pretrained=True)\n",
        "net_no_freeze.fc8 = L.Linear(2)  #replace output layer. \n",
        "optimizer = optimizers.AdaGrad(lr=0.001).setup(net_no_freeze)\n",
        "net_no_freeze.to_gpu()\n",
        "net_no_freeze, progress_no_freeze = train_net(net_no_freeze,\n",
        "                                              train_loader, test_loader,\n",
        "                                              max_epoch)"
      ],
      "metadata": {
        "colab": {
          "base_uri": "https://localhost:8080/"
        },
        "id": "ymFGl65yEEeU",
        "outputId": "03ae2e64-fc50-4c12-d009-1aa890322126"
      },
      "execution_count": 14,
      "outputs": [
        {
          "output_type": "stream",
          "name": "stdout",
          "text": [
            "Epoch: 1\n",
            "train_loss:43.478,'test loss: 1.802\n",
            "train_acc:0.533,'test acc: 0.458\n",
            "Epoch: 2\n",
            "train_loss:1.156,'test loss: 0.765\n",
            "train_acc:0.459,'test acc: 0.490\n",
            "Epoch: 3\n",
            "train_loss:0.862,'test loss: 0.946\n",
            "train_acc:0.549,'test acc: 0.556\n",
            "Epoch: 4\n",
            "train_loss:0.764,'test loss: 0.653\n",
            "train_acc:0.582,'test acc: 0.621\n",
            "Epoch: 5\n",
            "train_loss:0.777,'test loss: 1.749\n",
            "train_acc:0.578,'test acc: 0.458\n",
            "Epoch: 6\n",
            "train_loss:0.754,'test loss: 0.848\n",
            "train_acc:0.619,'test acc: 0.582\n",
            "Epoch: 7\n",
            "train_loss:0.678,'test loss: 0.673\n",
            "train_acc:0.643,'test acc: 0.673\n",
            "Epoch: 8\n",
            "train_loss:0.656,'test loss: 0.679\n",
            "train_acc:0.672,'test acc: 0.660\n",
            "Epoch: 9\n",
            "train_loss:0.624,'test loss: 0.700\n",
            "train_acc:0.660,'test acc: 0.693\n",
            "Epoch: 10\n",
            "train_loss:0.536,'test loss: 0.746\n",
            "train_acc:0.742,'test acc: 0.686\n"
          ]
        }
      ]
    },
    {
      "cell_type": "code",
      "source": [
        "plt.plot(np.arange(max_epoch) + 1, progress_no_freeze[2], label=\"Train\")\n",
        "plt.plot(np.arange(max_epoch) + 1, progress_no_freeze[3], label=\"Test\")\n",
        "plt.xlim(0, max_epoch + 0.5)\n",
        "plt.ylim(0.4, 1)\n",
        "plt.ylabel(\"Accuracy\")\n",
        "plt.xlabel(\"Epoch\")\n",
        "plt.legend(loc=1)\n",
        "plt.show()"
      ],
      "metadata": {
        "colab": {
          "base_uri": "https://localhost:8080/",
          "height": 283
        },
        "id": "DSU3DY1iIJgL",
        "outputId": "9f033344-4e83-4c5a-b458-b32059cc10b9"
      },
      "execution_count": 15,
      "outputs": [
        {
          "output_type": "display_data",
          "data": {
            "image/png": "[encoded data removed]",
            "text/plain": [
              "<Figure size 432x288 with 1 Axes>"
            ]
          },
          "metadata": {
            "needs_background": "light"
          }
        }
      ]
    }
  ]
}