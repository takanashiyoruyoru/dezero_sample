{
  "nbformat": 4,
  "nbformat_minor": 0,
  "metadata": {
    "colab": {
      "name": "DeZero_MNIST_CNN.ipynb",
      "provenance": [],
      "collapsed_sections": [],
      "authorship_tag": "ABX9TyNVDXXK6qREw66Bbvdb+iv2"
    },
    "kernelspec": {
      "name": "python3",
      "display_name": "Python 3"
    },
    "language_info": {
      "name": "python"
    },
    "accelerator": "GPU"
  },
  "cells": [
    {
      "cell_type": "code",
      "execution_count": 1,
      "metadata": {
        "colab": {
          "base_uri": "https://localhost:8080/"
        },
        "id": "BVaUtia7X9E9",
        "outputId": "e657a96d-072c-45bf-b671-444cec41b941"
      },
      "outputs": [
        {
          "output_type": "stream",
          "name": "stdout",
          "text": [
            "Collecting dezero\n",
            "  Downloading dezero-0.0.13-py3-none-any.whl (28 kB)\n",
            "Requirement already satisfied: numpy in /usr/local/lib/python3.7/dist-packages (from dezero) (1.19.5)\n",
            "Installing collected packages: dezero\n",
            "Successfully installed dezero-0.0.13\n"
          ]
        }
      ],
      "source": [
        "pip install dezero"
      ]
    },
    {
      "cell_type": "code",
      "source": [
        "import numpy as np\n",
        "import dezero\n",
        "import dezero.functions as F\n",
        "import dezero.layers as L\n",
        "from dezero import optimizers\n",
        "from dezero import DataLoader\n",
        "from dezero.models import Model\n",
        "from dezero.transforms import Compose, Normalize, ToFloat"
      ],
      "metadata": {
        "id": "O77IMfT8YGVh"
      },
      "execution_count": 2,
      "outputs": []
    },
    {
      "cell_type": "markdown",
      "source": [
        "Define the network"
      ],
      "metadata": {
        "id": "eRyPlR-PN9dX"
      }
    },
    {
      "cell_type": "code",
      "source": [
        "class Net(Model):\n",
        "  def __init__(self):\n",
        "    super().__init__()\n",
        "    self.conv1 = L.Conv2d(6, kernel_size=3, stride=1, pad=1)\n",
        "    self.conv2 = L.Conv2d(16, kernel_size=3, stride=1, pad=1)\n",
        "    self.linear1 = L.Linear(120)\n",
        "    self.linear2 = L.Linear(84)\n",
        "    self.linear3 = L.Linear(10)\n",
        "  \n",
        "  def forward(self, x):\n",
        "    x = F.relu(self.conv1(x))\n",
        "    x = F.pooling(x, 2, 2)\n",
        "    x = F.relu(self.conv2(x))\n",
        "    x = F.flatten(x)\n",
        "    x = F.relu(self.linear1(x))\n",
        "    x = F.relu(self.linear2(x))\n",
        "    x = self.linear3(x)\n",
        "    return x"
      ],
      "metadata": {
        "id": "vqlCNttucVU1"
      },
      "execution_count": 3,
      "outputs": []
    },
    {
      "cell_type": "code",
      "source": [
        "max_epoch = 15\n",
        "batch_size = 100\n",
        "\n",
        "#maximum 1, minimum 0\n",
        "transform = Compose([ToFloat(), Normalize(0., 255.)])\n",
        "\n",
        "#Load, MNIST\n",
        "train_set = dezero.datasets.MNIST(train=True, transform= transform)\n",
        "test_set = dezero.datasets.MNIST(train=False, transform= transform)\n",
        "\n",
        "train_loader = DataLoader(train_set, batch_size, shuffle=True)\n",
        "test_loader = DataLoader(test_set, batch_size)\n",
        "\n",
        "train_loader.to_gpu()\n",
        "test_loader.to_gpu()\n",
        "\n",
        "net = Net()\n",
        "net.to_gpu()\n",
        "optimizer = optimizers.SGD().setup(net)\n",
        "\n",
        "#lists to record accuracies and losses.\n",
        "train_losses = []\n",
        "test_losses = []\n",
        "train_accuracies = []\n",
        "test_accuracies = []"
      ],
      "metadata": {
        "colab": {
          "base_uri": "https://localhost:8080/"
        },
        "id": "QOOU5J7tSZG7",
        "outputId": "5757a9c4-1bfe-4312-eac1-83fafd791e73"
      },
      "execution_count": 4,
      "outputs": [
        {
          "output_type": "stream",
          "name": "stdout",
          "text": [
            "Downloading: train-images-idx3-ubyte.gz\n",
            "[##############################] 100.00% Done\n",
            "Downloading: train-labels-idx1-ubyte.gz\n",
            "[##############################] 100.00% Done\n",
            "Downloading: t10k-images-idx3-ubyte.gz\n",
            "[##############################] 100.00% Done\n",
            "Downloading: t10k-labels-idx1-ubyte.gz\n",
            "[##############################] 100.00% Done\n"
          ]
        }
      ]
    },
    {
      "cell_type": "code",
      "source": [
        "def test_score(net, test_loader, test_set):\n",
        "  \"\"\"\n",
        "  return test_loss and accurcy, test_mode\n",
        "  \"\"\"\n",
        "  #initialize tmp_loss and tmp accuracy for test_loader.\n",
        "  tmp_loss, tmp_acc = 0.0, 0.0\n",
        "  \n",
        "  for x, t in test_loader:\n",
        "    y = net(x)\n",
        "    loss = F.softmax_cross_entropy(y, t)\n",
        "    tmp_loss += float(loss.data) * len(t)\n",
        "    tmp_acc += float(F.accuracy(y, t).data) * len(t)\n",
        "\n",
        "  return tmp_loss / (len(test_set)), tmp_acc / len(test_set) "
      ],
      "metadata": {
        "id": "QUKYLUMlTqf2"
      },
      "execution_count": 5,
      "outputs": []
    },
    {
      "cell_type": "markdown",
      "source": [
        "training MNIST"
      ],
      "metadata": {
        "id": "pF4a9TlHQD7t"
      }
    },
    {
      "cell_type": "code",
      "source": [
        "for epoch in range(max_epoch):\n",
        "  #initialize tmp_loss and tmp accuracy for test_loader.\n",
        "  tmp_loss, tmp_acc = 0.0, 0.0\n",
        "\n",
        "  for x, t in train_loader:\n",
        "    y = net(x)\n",
        "    loss = F.softmax_cross_entropy(y, t)\n",
        "    #update model\n",
        "    net.cleargrads()\n",
        "    loss.backward()\n",
        "    optimizer.update()\n",
        "\n",
        "    tmp_loss += float(loss.data) * len(t)\n",
        "    tmp_acc += float(F.accuracy(y, t).data) * len(t)\n",
        "\n",
        "  train_losses.append(tmp_loss / (len(train_set)))\n",
        "  train_accuracies.append(tmp_acc / len(train_set))\n",
        "\n",
        "  #calc_test_scores\n",
        "  test_loss, test_acc = test_score(net, test_loader, test_set)\n",
        "\n",
        "  test_losses.append(test_loss)\n",
        "  test_accuracies.append(test_acc)\n",
        "\n",
        "  print(\"Epoch:\", epoch + 1)\n",
        "  print(\"train_loss:{:.3f},'test loss: {:.3f}\".format(\n",
        "      train_losses[-1], test_losses[-1]))\n",
        "  print(\"train_acc:{:.3f},'test acc: {:.3f}\".format(\n",
        "      train_accuracies[-1], test_accuracies[-1]))"
      ],
      "metadata": {
        "id": "whGkS0zjjfpm",
        "colab": {
          "base_uri": "https://localhost:8080/"
        },
        "outputId": "0764912a-4b75-499c-dc30-4fc17df2612f"
      },
      "execution_count": 6,
      "outputs": [
        {
          "output_type": "stream",
          "name": "stdout",
          "text": [
            "Epoch: 1\n",
            "train_loss:0.874,'test loss: 0.323\n",
            "train_acc:0.759,'test acc: 0.907\n",
            "Epoch: 2\n",
            "train_loss:0.279,'test loss: 0.208\n",
            "train_acc:0.916,'test acc: 0.939\n",
            "Epoch: 3\n",
            "train_loss:0.212,'test loss: 0.261\n",
            "train_acc:0.936,'test acc: 0.911\n",
            "Epoch: 4\n",
            "train_loss:0.170,'test loss: 0.139\n",
            "train_acc:0.948,'test acc: 0.956\n",
            "Epoch: 5\n",
            "train_loss:0.142,'test loss: 0.132\n",
            "train_acc:0.957,'test acc: 0.959\n",
            "Epoch: 6\n",
            "train_loss:0.122,'test loss: 0.105\n",
            "train_acc:0.963,'test acc: 0.967\n",
            "Epoch: 7\n",
            "train_loss:0.108,'test loss: 0.096\n",
            "train_acc:0.967,'test acc: 0.970\n",
            "Epoch: 8\n",
            "train_loss:0.096,'test loss: 0.083\n",
            "train_acc:0.971,'test acc: 0.975\n",
            "Epoch: 9\n",
            "train_loss:0.088,'test loss: 0.077\n",
            "train_acc:0.974,'test acc: 0.977\n",
            "Epoch: 10\n",
            "train_loss:0.081,'test loss: 0.078\n",
            "train_acc:0.976,'test acc: 0.977\n",
            "Epoch: 11\n",
            "train_loss:0.074,'test loss: 0.071\n",
            "train_acc:0.977,'test acc: 0.978\n",
            "Epoch: 12\n",
            "train_loss:0.068,'test loss: 0.069\n",
            "train_acc:0.980,'test acc: 0.980\n",
            "Epoch: 13\n",
            "train_loss:0.064,'test loss: 0.066\n",
            "train_acc:0.981,'test acc: 0.981\n",
            "Epoch: 14\n",
            "train_loss:0.059,'test loss: 0.070\n",
            "train_acc:0.983,'test acc: 0.978\n",
            "Epoch: 15\n",
            "train_loss:0.055,'test loss: 0.067\n",
            "train_acc:0.983,'test acc: 0.977\n"
          ]
        }
      ]
    },
    {
      "cell_type": "markdown",
      "source": [
        "\n",
        "\n",
        "**Visualize the results**\n",
        "\n",
        "accuracy"
      ],
      "metadata": {
        "id": "jlLiYI0QRLYe"
      }
    },
    {
      "cell_type": "code",
      "source": [
        "import matplotlib.pyplot as plt\n",
        "\n",
        "plt.plot(np.arange(max_epoch)+1, train_accuracies, label=\"train\")\n",
        "plt.plot(np.arange(max_epoch)+1, test_accuracies, label=\"test\")\n",
        "plt.xlim(0, max_epoch)\n",
        "plt.ylim(0.75, 1)\n",
        "plt.legend(loc=4)\n",
        "plt.xlabel(\"Epoch\")\n",
        "plt.ylabel(\"Accuracy\")\n",
        "plt.show()"
      ],
      "metadata": {
        "colab": {
          "base_uri": "https://localhost:8080/",
          "height": 283
        },
        "id": "6YUkvh3qqZNH",
        "outputId": "a3216c4e-192c-4e4d-825a-b7d28b2380e3"
      },
      "execution_count": 7,
      "outputs": [
        {
          "output_type": "display_data",
          "data": {
            "image/png": "[encoded data removed]",
            "text/plain": [
              "<Figure size 432x288 with 1 Axes>"
            ]
          },
          "metadata": {
            "needs_background": "light"
          }
        }
      ]
    },
    {
      "cell_type": "markdown",
      "source": [
        "Loss"
      ],
      "metadata": {
        "id": "-rLjO5uJRY9Z"
      }
    },
    {
      "cell_type": "code",
      "source": [
        "plt.plot(np.arange(max_epoch)+1, train_losses, label=\"train\")\n",
        "plt.plot(np.arange(max_epoch)+1, test_losses, label=\"test\")\n",
        "plt.xlim(0, max_epoch)\n",
        "plt.ylim(0, 1)\n",
        "plt.legend(loc=1)\n",
        "plt.xlabel(\"Epoch\")\n",
        "plt.ylabel(\"Loss\")\n",
        "plt.show()"
      ],
      "metadata": {
        "colab": {
          "base_uri": "https://localhost:8080/",
          "height": 283
        },
        "id": "d51zDEkztK6T",
        "outputId": "67143930-70b5-401f-85f7-7592d4a44501"
      },
      "execution_count": 8,
      "outputs": [
        {
          "output_type": "display_data",
          "data": {
            "image/png": "[encoded data removed]",
            "text/plain": [
              "<Figure size 432x288 with 1 Axes>"
            ]
          },
          "metadata": {
            "needs_background": "light"
          }
        }
      ]
    }
  ]
}
